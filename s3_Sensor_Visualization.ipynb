{
  "nbformat": 4,
  "nbformat_minor": 0,
  "metadata": {
    "colab": {
      "name": "s3_Sensor_Visualization.ipynb",
      "provenance": []
    },
    "kernelspec": {
      "name": "python3",
      "display_name": "Python 3"
    }
  },
  "cells": [
    {
      "cell_type": "markdown",
      "metadata": {
        "id": "Ed5sTX9YsOYO"
      },
      "source": [
        "##Usage Instructions\n",
        "Run the first two cells consecutively. The cells following download data from the parameters selected for either a certain number of recent days or selected date ranges. Following that visualizations can be created using any of the fields that the sensors contain for up to two variables."
      ]
    },
    {
      "cell_type": "markdown",
      "metadata": {
        "id": "JmJBe0Fg67jc"
      },
      "source": [
        "##JSON combiner transforms data into a workable list of dicts"
      ]
    },
    {
      "cell_type": "code",
      "metadata": {
        "id": "nIHfLbqj7f2j",
        "colab": {
          "base_uri": "https://localhost:8080/"
        },
        "cellView": "form",
        "outputId": "10613dc7-c9ce-44a2-f9e1-ed75cd1a2183"
      },
      "source": [
        "#@title Run Combiner Function\n",
        "from datetime import datetime, date, timezone, timedelta\n",
        "import json\n",
        "from glob import glob\n",
        "import os\n",
        "\n",
        "\n",
        "seconds_per_unit = {\"s\": 1, \"m\": 60, \"h\": 3600, \"d\": 86400, \"w\": 604800}\n",
        "strfmt = {'year_month':'%Y-%m', 'day':\"%d\", 'time': '%H_%M_%S'}\n",
        "\n",
        "def convert_to_seconds(s):\n",
        "    return int(s[:-1]) * seconds_per_unit[s[-1]]\n",
        "\n",
        "def combine_json(device, last='1h', start_date=None, end_date=None, file=''):\n",
        "    \"\"\" combine json file readings for specific device \n",
        "    Parameters\n",
        "    ----------\n",
        "    device : str\n",
        "        device ID \n",
        "    time : str (optional)\n",
        "        Duration on which we want to get the data (default 1h). \n",
        "        Past 30s for the last 30 seconds, 1h for the last hour, \n",
        "        2d for the last 48 hours, etc\n",
        "    \n",
        "    file : str (optional)\n",
        "        optional parameter to write combined json to file. Leave\n",
        "        blank to not write to file\n",
        "    Returns\n",
        "    -------\n",
        "    returns the JSON formated list sensor readings  \n",
        "    NOTE\n",
        "    ----\n",
        "    -   units return as ASCII characters, regular print(combine_json(stuff)) will throw UnicodeEncodeError, \n",
        "        instead use print(json.dumps(combine_json(stuff)), be sure to 'import json' first\n",
        "    \"\"\"\n",
        "    # TODO: check if device/directory exists\n",
        "    \n",
        "    next = True\n",
        "    readings = []\n",
        "    reading_jsons = []\n",
        "\n",
        "    time_now = datetime.now(timezone.utc)\n",
        "    # time_now = datetime(year=2021, month=1, day=20, hour=23)\n",
        "    time_last = time_now - timedelta(seconds=convert_to_seconds(last))\n",
        "    temp_day = time_now\n",
        "\n",
        "    if start_date is not None:\n",
        "        time_last = datetime.fromisoformat(start_date)\n",
        "    if end_date is not None:\n",
        "        temp_day = datetime.fromisoformat(end_date)\n",
        "\n",
        "    # starts with most recent reading and works backwards to find last reading\n",
        "    while(next):\n",
        "        dir_readings = glob(\"SensorData/\"+device+\"/\"+temp_day.strftime('%Y-%m')+\"/\" + temp_day.strftime('%d' + \"/*\"))\n",
        "\n",
        "        if temp_day.date() == time_last.date(): \n",
        "            for i, r in enumerate(dir_readings):\n",
        "                time_str = r[-13:-5]\n",
        "                temp_time = datetime.strptime(time_str, '%H_%M_%S').time()\n",
        "                if temp_time >= time_last.time():\n",
        "                    reading_jsons.extend(dir_readings[i:])\n",
        "                    break\n",
        "            next = False\n",
        "        else:\n",
        "            reading_jsons.extend(dir_readings)\n",
        "\n",
        "        temp_day -= timedelta(days=1)\n",
        "\n",
        "    # print(reading_jsons)\n",
        "\n",
        "    for reading in reading_jsons:\n",
        "        with open(reading, 'r') as f:\n",
        "            json_file = json.load(f)\n",
        "            readings.append(json_file)\n",
        "    \n",
        "    # print(json.dumps(readings, indent=4))\n",
        "\n",
        "    if file != '':\n",
        "        with open(file, 'w') as f:\n",
        "            json.dump(readings, f, indent=4)\n",
        "    return readings\n",
        "\n",
        "if __name__ == \"__main__\":\n",
        "    combine1 = combine_json('dl-atm41_5245')  # last hour of readings for device \n",
        "    combine2 = combine_json('dl-atm41_5245', '2h')  # last 2 hours of readings for device, no json file created\n",
        "    combine3 = combine_json('dl-atm41_5245', '3h', file='combined.json')  # last 3 hours of readings for device, json file created\n",
        "\n",
        "    print(json.dumps(combine3, indent=4))"
      ],
      "execution_count": 1,
      "outputs": [
        {
          "output_type": "stream",
          "text": [
            "[]\n"
          ],
          "name": "stdout"
        }
      ]
    },
    {
      "cell_type": "markdown",
      "metadata": {
        "id": "HNtuz_tT5xg9"
      },
      "source": [
        "## Define function to pull data from the things network via S3"
      ]
    },
    {
      "cell_type": "code",
      "metadata": {
        "id": "05g66lIm5w0N",
        "cellView": "form"
      },
      "source": [
        "#@title Run download function\n",
        "#@title Import number of days\n",
        "AWS_Access_Key_ID=''#@param {type:\"string\"}\n",
        "AWS_Secret_Access_Key=''#@param {type:\"string\"}\n",
        "from datetime import datetime, date, timezone, timedelta\n",
        "from queue import Queue\n",
        "!pip -q install boto3\n",
        "import os, boto3\n",
        "\n",
        "\n",
        "def download_from_S3(device, last=None, start_date=None, end_date=None):\n",
        "\n",
        "    bucket_name = 'floodwarningsystem'\n",
        "    \n",
        "    # Convert start_date into type datetime\n",
        "    if start_date is None:\n",
        "        datetime_start_date = datetime.now(timezone.utc)\n",
        "        if last is not None:\n",
        "            number_of_days = int(last[:-1])\n",
        "            datetime_start_date -= timedelta(days=number_of_days)\n",
        "        start_date = datetime.strftime(datetime_start_date, '%Y-%m-%d')\n",
        "    datetime_start_date = datetime.fromisoformat(start_date)\n",
        "\n",
        "    # Convert end_date into type datetime\n",
        "    if end_date is None:\n",
        "        datetime_end_date = datetime.now(timezone.utc)\n",
        "        end_date = datetime.strftime(datetime_end_date, '%Y-%m-%d')\n",
        "    datetime_end_date = datetime.fromisoformat(end_date)\n",
        "    \n",
        "    # Create queue for parallel S3 downloads for each day's readings\n",
        "    object_prefix = 'SensorData/{}/'.format(device)\n",
        "    object_prefix_queue = Queue()\n",
        "\n",
        "    current_date = datetime_start_date\n",
        "    \n",
        "    while current_date <= datetime_end_date:\n",
        "        current_date_prefix = datetime.strftime(current_date, '%Y-%m/%d')\n",
        "        current_date_object_prefix = object_prefix + current_date_prefix\n",
        "        object_prefix_queue.put(current_date_object_prefix)\n",
        "        current_date += timedelta(days=1)\n",
        "    \n",
        "    # s3 = boto3.resource('s3', aws_access_key_id = 'ENTER YOUR ACCESS KEY', \n",
        "    #                           aws_secret_access_key= 'ENTER YOUR SECRET KEY')\n",
        "    s3 = boto3.resource('s3', aws_access_key_id = AWS_Access_Key_ID, aws_secret_access_key= AWS_Secret_Access_Key)\n",
        "    s3_bucket = s3.Bucket(bucket_name)\n",
        "\n",
        "    while not object_prefix_queue.empty():\n",
        "\n",
        "        reading_object_prefix = object_prefix_queue.get()\n",
        "        print('Downloading readings from \\'{}\\' directory...'.format(reading_object_prefix))\n",
        "\n",
        "        for s3_object in s3_bucket.objects.filter(Prefix=reading_object_prefix):\n",
        "            path, filename = os.path.split(s3_object.key)\n",
        "            if not os.path.exists(path):\n",
        "                os.makedirs(path)\n",
        "\n",
        "            s3_bucket.download_file(s3_object.key, s3_object.key)\n",
        "    \n",
        "    print('Finished downloading selected readings!')\n",
        "\n",
        "\n",
        "def combined_readings(device, last='1d', start_date=None, end_date=None, file=''):\n",
        "    download_from_S3(device, last=last, start_date=start_date, end_date=end_date)\n",
        "    return combine_json(device, last=last, start_date=start_date, end_date=end_date, file=file)\n"
      ],
      "execution_count": 4,
      "outputs": []
    },
    {
      "cell_type": "markdown",
      "metadata": {
        "id": "U4-It9bD7wwZ"
      },
      "source": [
        "#Retrieving and manipulating data\n"
      ]
    },
    {
      "cell_type": "markdown",
      "metadata": {
        "id": "9jFUDTl3OKbR"
      },
      "source": [
        "###Run Cell Below to import the last selected number of days worth of data:"
      ]
    },
    {
      "cell_type": "code",
      "metadata": {
        "colab": {
          "base_uri": "https://localhost:8080/"
        },
        "id": "9AOTSsP15a11",
        "cellView": "form",
        "outputId": "f781ea78-e961-4200-d70a-1761e8b3d32b"
      },
      "source": [
        "#@title Import number of days\n",
        "days_import='1'#@param [\"1\",\"2\",\"7\",\"14\",\"30\"]\n",
        "import_conv=str(days_import)+'d'\n",
        "##import pressure data\n",
        "pressure_data =combined_readings('dl-pr-26_5100', last=import_conv)\n",
        "\n",
        "##import weather data\n",
        "weather_data =combined_readings('dl-atm41_5245', last=import_conv)\n",
        "\n",
        "\n",
        "##transform json into data frame\n",
        "import pandas as pd\n",
        "pressure_df=pd.DataFrame.from_dict(pressure_data, orient='columns')\n",
        "weather_df=pd.DataFrame.from_dict(weather_data, orient='columns')\n",
        "\n",
        "##create timestamp series\n",
        "pressure_df['timestamp']=pd.to_datetime(pressure_df['time'])\n",
        "weather_df['timestamp']=pd.to_datetime(weather_df['time'])\n",
        "\n",
        "##create water density series and use to create water depth series\n",
        "g=9.8\n",
        "pressure_df['density']=999.83+0.0752*pressure_df['temperature']-0.0089*(pressure_df['temperature']**2)+(7.36413E-5)*(pressure_df['temperature']**3)+(4.74639E-7)*(pressure_df['temperature']**4)+(1.34888E-9)*(pressure_df['temperature']**5)\n",
        "pressure_df['water depth']=(pressure_df['pressure']*100000)/(pressure_df['density']*g)\n",
        "\n",
        "##merge data frames on timestamp\n",
        "pressure_df=pressure_df.sort_values(by=['timestamp'])\n",
        "weather_df=weather_df.sort_values(by=['timestamp'])\n",
        "alldata=pd.merge_asof(pressure_df, weather_df, on='timestamp',direction='nearest')\n",
        "alldata['Pressure Sensor Battery Voltage(V)']=alldata['battery_voltage_x']\n",
        "alldata['Weather Sensor Battery Voltage(V)']=alldata['battery_voltage_y']\n",
        "alldata['Water Pressure (bar)']=alldata['pressure']\n",
        "alldata['Water Temperature (C)']=alldata['temperature']\n",
        "alldata['Water Density (kg/m^3)']=alldata['density']\n",
        "alldata['Water Depth (m)']=alldata['water depth']\n",
        "alldata['Atmospheric Pressure (kPa)']=alldata['atmospheric_pressure']\n",
        "alldata['Air Temperature (C)']=alldata['air_temperature']\n",
        "alldata['Lightning Average Distance (km)']=alldata['lightning_average_distance']\n",
        "alldata['Lightning Strike Count']=alldata['lightning_strike_count']\n",
        "alldata['Maximum Wind Speed (m/s)']=alldata['maximum_wind_speed']\n",
        "alldata['Precipitation (mm)']=alldata['precipitation']\n",
        "alldata['Relative Humudity (%)']=alldata['relative_humidity']\n",
        "alldata['Vapor Pressure (kPa)']=alldata['vapor_pressure']\n",
        "alldata['Wind Speed (m/s)']=alldata['wind_speed']\n"
      ],
      "execution_count": 5,
      "outputs": [
        {
          "output_type": "stream",
          "text": [
            "Downloading readings from 'SensorData/dl-pr-26_5100/2021-06/01' directory...\n",
            "Downloading readings from 'SensorData/dl-pr-26_5100/2021-06/02' directory...\n",
            "Finished downloading selected readings!\n",
            "Downloading readings from 'SensorData/dl-atm41_5245/2021-06/01' directory...\n",
            "Downloading readings from 'SensorData/dl-atm41_5245/2021-06/02' directory...\n",
            "Finished downloading selected readings!\n"
          ],
          "name": "stdout"
        }
      ]
    },
    {
      "cell_type": "markdown",
      "metadata": {
        "id": "2hbsPoGLGxRZ"
      },
      "source": [
        "###Run cell below after selecting date ranges to import data from a particular range of time:"
      ]
    },
    {
      "cell_type": "code",
      "metadata": {
        "colab": {
          "base_uri": "https://localhost:8080/"
        },
        "id": "1HP5hSutGxyJ",
        "cellView": "form",
        "outputId": "44533171-4b6b-4160-ade2-e03f6756e06e"
      },
      "source": [
        "#@title Date Import Range\n",
        "date_start='2021-03-11'#@param {type:\"date\"}\n",
        "date_end='2021-03-19'#@param {type:\"date\"}\n",
        "\n",
        "##import pressure data\n",
        "pressure_data=combined_readings('dl-pr-26_5100', start_date=date_start, end_date=date_end)\n",
        "\n",
        "##import weather data\n",
        "weather_data =combined_readings('dl-atm41_5245', start_date=date_start, end_date=date_end)\n",
        "\n",
        "\n",
        "##transform json into data frame\n",
        "import pandas as pd\n",
        "pressure_df=pd.DataFrame.from_dict(pressure_data, orient='columns')\n",
        "weather_df=pd.DataFrame.from_dict(weather_data, orient='columns')\n",
        "\n",
        "##create timestamp series\n",
        "pressure_df['timestamp']=pd.to_datetime(pressure_df['time'])\n",
        "weather_df['timestamp']=pd.to_datetime(weather_df['time'])\n",
        "\n",
        "##create water density series and use to create water depth series\n",
        "g=9.8\n",
        "pressure_df['density']=999.83+0.0752*pressure_df['temperature']-0.0089*(pressure_df['temperature']**2)+(7.36413E-5)*(pressure_df['temperature']**3)+(4.74639E-7)*(pressure_df['temperature']**4)+(1.34888E-9)*(pressure_df['temperature']**5)\n",
        "pressure_df['water depth']=(pressure_df['pressure']*100000)/(pressure_df['density']*g)\n",
        "\n",
        "##merge data frames on timestamp\n",
        "pressure_df=pressure_df.sort_values(by=['timestamp'])\n",
        "weather_df=weather_df.sort_values(by=['timestamp'])\n",
        "alldata=pd.merge_asof(pressure_df, weather_df, on='timestamp',direction='nearest')\n",
        "alldata['Pressure Sensor Battery Voltage(V)']=alldata['battery_voltage_x']\n",
        "alldata['Weather Sensor Battery Voltage(V)']=alldata['battery_voltage_y']\n",
        "alldata['Water Pressure (bar)']=alldata['pressure']\n",
        "alldata['Water Temperature (C)']=alldata['temperature']\n",
        "alldata['Water Density (kg/m^3)']=alldata['density']\n",
        "alldata['Water Depth (m)']=alldata['water depth']\n",
        "alldata['Atmospheric Pressure (kPa)']=alldata['atmospheric_pressure']\n",
        "alldata['Air Temperature (C)']=alldata['air_temperature']\n",
        "alldata['Lightning Average Distance (km)']=alldata['lightning_average_distance']\n",
        "alldata['Lightning Strike Count']=alldata['lightning_strike_count']\n",
        "alldata['Maximum Wind Speed (m/s)']=alldata['maximum_wind_speed']\n",
        "alldata['Precipitation (mm)']=alldata['precipitation']\n",
        "alldata['Relative Humudity (%)']=alldata['relative_humidity']\n",
        "alldata['Vapor Pressure (kPa)']=alldata['vapor_pressure']\n",
        "alldata['Wind Speed (m/s)']=alldata['wind_speed']"
      ],
      "execution_count": null,
      "outputs": [
        {
          "output_type": "stream",
          "text": [
            "Downloading readings from 'SensorData/dl-pr-26_5100/2021-03/10' directory...\n",
            "Downloading readings from 'SensorData/dl-pr-26_5100/2021-03/11' directory...\n",
            "Downloading readings from 'SensorData/dl-pr-26_5100/2021-03/12' directory...\n",
            "Downloading readings from 'SensorData/dl-pr-26_5100/2021-03/13' directory...\n",
            "Downloading readings from 'SensorData/dl-pr-26_5100/2021-03/14' directory...\n",
            "Downloading readings from 'SensorData/dl-pr-26_5100/2021-03/15' directory...\n",
            "Downloading readings from 'SensorData/dl-pr-26_5100/2021-03/16' directory...\n",
            "Downloading readings from 'SensorData/dl-pr-26_5100/2021-03/17' directory...\n",
            "Finished downloading selected readings!\n",
            "Downloading readings from 'SensorData/dl-atm41_5245/2021-03/10' directory...\n",
            "Downloading readings from 'SensorData/dl-atm41_5245/2021-03/11' directory...\n",
            "Downloading readings from 'SensorData/dl-atm41_5245/2021-03/12' directory...\n",
            "Downloading readings from 'SensorData/dl-atm41_5245/2021-03/13' directory...\n",
            "Downloading readings from 'SensorData/dl-atm41_5245/2021-03/14' directory...\n",
            "Downloading readings from 'SensorData/dl-atm41_5245/2021-03/15' directory...\n",
            "Downloading readings from 'SensorData/dl-atm41_5245/2021-03/16' directory...\n",
            "Downloading readings from 'SensorData/dl-atm41_5245/2021-03/17' directory...\n",
            "Finished downloading selected readings!\n"
          ],
          "name": "stdout"
        }
      ]
    },
    {
      "cell_type": "markdown",
      "metadata": {
        "id": "N1zGgbd9N8D4"
      },
      "source": [
        "##Create plots\n",
        "Run each cell to generate individual vizualizations for titled fields"
      ]
    },
    {
      "cell_type": "code",
      "metadata": {
        "colab": {
          "base_uri": "https://localhost:8080/",
          "height": 295
        },
        "id": "Av61j5LrA5YO",
        "cellView": "form",
        "outputId": "7fe5bb13-be23-4dc0-b27b-842f9780d4ca"
      },
      "source": [
        "#@title Select plotting variables\n",
        "field_1='Water Depth (m)'#@param ['None','Pressure Sensor Battery Voltage(V)','Weather Sensor Battery Voltage(V)','Water Pressure (bar)','Water Temperature (C)','Water Density (kg/m^3)','Water Depth (m)','Atmospheric Pressure (kPa)','Air Temperature (C)','Lightning Average Distance (km)','Lightning Strike Count','Maximum Wind Speed (m/s)','Precipitation (mm)','Relative Humudity (%)','Vapor Pressure (kPa)','Wind Speed (m/s)']\n",
        "field_2='None'#@param  ['None','Pressure Sensor Battery Voltage(V)','Weather Sensor Battery Voltage(V)','Water Pressure (bar)','Water Temperature (C)','Water Density (kg/m^3)','Water Depth (m)','Atmospheric Pressure (kPa)','Air Temperature (C)','Lightning Average Distance (km)','Lightning Strike Count','Maximum Wind Speed (m/s)','Precipitation (mm)','Relative Humudity (%)','Vapor Pressure (kPa)','Wind Speed (m/s)']\n",
        "##Create graphs depending on inputs\n",
        "if field_2!='None' and field_1!='None':\n",
        "  temp2plot=alldata.plot(x='timestamp',y=[field_1,field_2], title=field_1+' and '+field_2+' vs. Time')\n",
        "  temp2plot.set_ylabel(field_1+' and '+field_2)\n",
        "if field_2=='None':\n",
        "  temp2plot=alldata.plot(x='timestamp',y=field_1, title=field_1+' vs. Time')\n",
        "  temp2plot.set_ylabel(field_1)\n",
        "if field_1=='None':\n",
        "  temp2plot=alldata.plot(x='timestamp',y=field_2, title=field_2+' vs. Time')\n",
        "  temp2plot.set_ylabel(field_2)"
      ],
      "execution_count": 6,
      "outputs": [
        {
          "output_type": "display_data",
          "data": {
            "image/png": "[encoded data removed]",
            "text/plain": [
              "<Figure size 432x288 with 1 Axes>"
            ]
          },
          "metadata": {
            "tags": [],
            "needs_background": "light"
          }
        }
      ]
    }
  ]
}